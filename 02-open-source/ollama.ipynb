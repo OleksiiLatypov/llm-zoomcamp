{
 "cells": [
  {
   "cell_type": "code",
   "execution_count": 1,
   "id": "cfa06425-42b0-4906-95b7-08d35e62e662",
   "metadata": {},
   "outputs": [
    {
     "name": "stdout",
     "output_type": "stream",
     "text": [
      "--2024-08-24 19:29:32--  https://raw.githubusercontent.com/alexeygrigorev/minsearch/main/minsearch.py\n",
      "Resolving raw.githubusercontent.com (raw.githubusercontent.com)... 185.199.110.133, 185.199.111.133, 185.199.108.133, ...\n",
      "Connecting to raw.githubusercontent.com (raw.githubusercontent.com)|185.199.110.133|:443... connected.\n",
      "HTTP request sent, awaiting response... 200 OK\n",
      "Length: 3832 (3.7K) [text/plain]\n",
      "Saving to: ‘minsearch.py’\n",
      "\n",
      "minsearch.py        100%[===================>]   3.74K  --.-KB/s    in 0s      \n",
      "\n",
      "2024-08-24 19:29:32 (27.3 MB/s) - ‘minsearch.py’ saved [3832/3832]\n",
      "\n"
     ]
    }
   ],
   "source": [
    "!rm -f minsearch.py\n",
    "!wget https://raw.githubusercontent.com/alexeygrigorev/minsearch/main/minsearch.py"
   ]
  },
  {
   "cell_type": "code",
   "execution_count": 2,
   "id": "9e23f986-415f-442d-9645-e0973949c41b",
   "metadata": {},
   "outputs": [
    {
     "data": {
      "text/plain": [
       "<minsearch.Index at 0x7ac0ba8aa060>"
      ]
     },
     "execution_count": 2,
     "metadata": {},
     "output_type": "execute_result"
    }
   ],
   "source": [
    "import requests \n",
    "import minsearch\n",
    "\n",
    "docs_url = 'https://github.com/DataTalksClub/llm-zoomcamp/blob/main/01-intro/documents.json?raw=1'\n",
    "docs_response = requests.get(docs_url)\n",
    "documents_raw = docs_response.json()\n",
    "\n",
    "documents = []\n",
    "\n",
    "for course in documents_raw:\n",
    "    course_name = course['course']\n",
    "\n",
    "    for doc in course['documents']:\n",
    "        doc['course'] = course_name\n",
    "        documents.append(doc)\n",
    "\n",
    "index = minsearch.Index(\n",
    "    text_fields=[\"question\", \"text\", \"section\"],\n",
    "    keyword_fields=[\"course\"]\n",
    ")\n",
    "\n",
    "index.fit(documents)"
   ]
  },
  {
   "cell_type": "code",
   "execution_count": 3,
   "id": "3089d4dc-ab46-4923-b386-4a432a600080",
   "metadata": {},
   "outputs": [],
   "source": [
    "def search(query):\n",
    "    boost = {'question': 3.0, 'section': 0.5}\n",
    "\n",
    "    results = index.search(\n",
    "        query=query,\n",
    "        filter_dict={'course': 'data-engineering-zoomcamp'},\n",
    "        boost_dict=boost,\n",
    "        num_results=5\n",
    "    )\n",
    "\n",
    "    return results"
   ]
  },
  {
   "cell_type": "code",
   "execution_count": 4,
   "id": "55fbf90f-9286-47af-b315-0d1c3ff89779",
   "metadata": {},
   "outputs": [],
   "source": [
    "def build_prompt(query, search_results):\n",
    "    prompt_template = \"\"\"\n",
    "    You're a course teaching assistant. Answer the QUESTION based on the CONTEXT from the FAQ database.\n",
    "    Use only the facts from the CONTEXT when answering the QUESTION.\n",
    "    \n",
    "    QUESTION: {question}\n",
    "    \n",
    "    CONTEXT: \n",
    "    {context}\n",
    "    \"\"\".strip()\n",
    "\n",
    "    context = \"\"\n",
    "    \n",
    "    for doc in search_results:\n",
    "        context = context + f\"section: {doc['section']}\\nquestion: {doc['question']}\\nanswer: {doc['text']}\\n\\n\"\n",
    "    \n",
    "    prompt = prompt_template.format(question=query, context=context).strip()\n",
    "    return prompt\n",
    "\n",
    "def llm(prompt):\n",
    "    response = client.chat.completions.create(\n",
    "        model='phi3',\n",
    "        messages=[{\"role\": \"user\", \"content\": prompt}]\n",
    "    )\n",
    "    \n",
    "    return response.choices[0].message.content"
   ]
  },
  {
   "cell_type": "code",
   "execution_count": 5,
   "id": "22219813-855e-48c8-8b58-40660ced3e26",
   "metadata": {},
   "outputs": [],
   "source": [
    "def rag(query):\n",
    "    search_results = search(query)\n",
    "    prompt = build_prompt(query, search_results)\n",
    "    answer = llm(prompt)\n",
    "    return answer\n",
    "    "
   ]
  },
  {
   "cell_type": "code",
   "execution_count": 6,
   "id": "3a827951-a47e-48bc-9b44-b05d936ff2eb",
   "metadata": {},
   "outputs": [],
   "source": [
    "from openai import OpenAI\n",
    "\n",
    "client = OpenAI(base_url = 'http://localhost:11434/v1/',\n",
    "                api_key = 'ollama'\n",
    "               )"
   ]
  },
  {
   "cell_type": "code",
   "execution_count": 7,
   "id": "a09f2c00-25c8-49f6-9fb0-96d41e44fa28",
   "metadata": {},
   "outputs": [
    {
     "data": {
      "text/plain": [
       "'Hello! How can I help you today?'"
      ]
     },
     "execution_count": 7,
     "metadata": {},
     "output_type": "execute_result"
    }
   ],
   "source": [
    "llm('hi')"
   ]
  },
  {
   "cell_type": "code",
   "execution_count": 8,
   "id": "a7ec4ad6-27eb-466c-952a-9b8f63dae97f",
   "metadata": {},
   "outputs": [
    {
     "data": {
      "text/plain": [
       "\"If you just discovered the course now, as per our FAQ responses and policies mentioned herein that were updated until early Jan 2023: You are still eligible to join even after the start date has passed because there will be provisions for late registrations where submitting homework is expected. However, you need to ensure not to wait till last minute as final project submission deadlines do apply post course commencement on 15th Jan 2024 at 17h00 (GMT). In addition, please remember that some registration resources or forums might only work from desktop applications like Google Calendar and Slack. Therefore, ensure to follow necessary steps beforehand including registering via the provided link ahead of course initiation date if not yet done, becoming a Telegram channel member as well joining our DataTalks Club's official Slack Channel which is crucial for staying updated throughout the learning journey that we organize.\""
      ]
     },
     "execution_count": 8,
     "metadata": {},
     "output_type": "execute_result"
    }
   ],
   "source": [
    "rag('I just discovered the course. Can I still join?')"
   ]
  },
  {
   "cell_type": "code",
   "execution_count": 9,
   "id": "9f38c09d-9179-4b48-9386-439708a7f159",
   "metadata": {},
   "outputs": [
    {
     "data": {
      "text/plain": [
       "\"The course being discussed is related to data engineering and focuses on cloud computing using Google Cloud platforms (like GCP). Students are expected to have prerequisites such as familiarity with installing packages like Python Anaconda, Terraform, Git etc., having an open Google Cloud account along with a working installation of the Cloud SDK. You can follow this course by subscribing its contents after it finishes and even work on your personal capstone project or continue preparing for future courses using provided materials from DataTalksClub's Slack channel, their online calendar which is active through desktops only as well as Telegram Channel announcements.\""
      ]
     },
     "execution_count": 9,
     "metadata": {},
     "output_type": "execute_result"
    }
   ],
   "source": [
    "rag('What course are you talking about ?')"
   ]
  },
  {
   "cell_type": "code",
   "execution_count": 11,
   "id": "4070da57-0f67-4900-9acd-3ca7d2e42cf7",
   "metadata": {},
   "outputs": [
    {
     "data": {
      "text/plain": [
       "\"This document serves as an automated message to verify the system status. Please disregard it upon receipt, especially when in transit outside of monitoring periods or technical support windows. Remember to reach out with any concerns via direct communication channels provided at your earliest convenience for resolution assistance. For real-time updates and personalized troubleshooting advice, stay tuned through our client portal notifications while actively accessing the system features you need most currently—this message will be automatically filtered from such communications thanks to improved user interaction processes that have been implemented recently in the upgrade cycle.\\n\\nEnsure your credentials are securely stored and manage login procedures with high confidentiality, recognizing our commitment towards maintaining cyber safety for everyone using this platform. In observance of compliance regulations, consider signing up or confirming any existing privacy policies online before diving deeper into personalized user experiences offered by the service that rely on data insights and behavioral analytics without compromising individual rights to opt-out at no added cost.\\n\\nWe appreciate your continued patronage with an intent for proactive engagement through scheduled feedback sessions, which facilitates iterative enhancement of both software functionalities and user interaction paradigms—further amplifying the overall positive journey within this ecosystem designed to propel us all towards seamless digital experiences.\\n\\nThis test message confirms your device's operational readiness or triggers a system diagnostic sequence when inconsistenries occur, which are not expected but will be efficiently addressed by our dedicated support team awaiting at the standby mode for immediate deployment on reported issues—your experience is integral to us continuously evolving with tailored after-hours customer care solutions. If necessary during working hours while actively engaging in personal tasks or professional duties, remember that a direct call might provide quicker assistance than written interactions due to the complexity of certain technicalities involved which are better deciphered through real-time conversational support methods facilitated by our live tech help agents available until closure times.\\n\\nShould you encounter any obstacles during these periods when services may not be fully accessible, rest assured that comprehensive FAQs and guided troubleshooting aids can serve as standalone resources for quick reference—these documents are regularly updated to match the latest compatibility adjustments stemming from scheduled system maintenance windows or spontaneous server interruptions. In cases where additional clarity is essential beyond what these materials provide, utilize direct communication channels at your convenience by contacting our support team; alternatively, when immediate resolution seems unattainable within a brief feedback window due to the nature of technical inquiries—as complex problems might require extended dialogue or follow-up actions for conclusive results.\\n\\nIn acknowledgment and appreciation regarding patient communication attempts made across time where wait loops caused by high service demand at peak hours are considered, we endeavor to streamline interactions towards a more direct resolution pathway whenever feasible; however in scenarios deemed unsatisfactory or inconclusively addressed during active engagement phases within these periods—a transcript request will be automatically filed for analysis and review with the intent of identifying root causes associated specifically at times when queuing lengths were anticipated to cause heightened delays, thereby providing data-driven insights which we assure you shall contribute towards tangible enhancements in operational pacing.\\n\\nTo accommodate diverse technical competencies among users ranging widely from novice to expert levels—we advocate adopting a multipronged approach tailored uniquely for your respective abilities where resources like guides, step-by-step tutorials within user manuals are suggested as initial reference material at this juncture prior before engaging in hands-on application or delving directly into live support when advanced troubleshooting strategies become apparent and necessary; furthermore with regards to the complexity involved in navigating some system functionalities, we encourage experimentation accompanied by a healthy dose of caution—guidance from our tech advisors aimed at fostering best practices surrounding secure credential management when accessing online services ensuring privacy retention despite external pressures emanating due to potential cybersecurity threats which can evolve unpredictably yet remains manageable with the current robust security measures enforced through relentless updates in conjunction with ongoing threat assessment mechanisms.\\n\\nGiven various factors leading towards disconnects during critical interaction timestamps—it has become imperative for us to optimize our customer service framework by synchronizing operational hours across different time zones; thereby ensuring that no user experiences significant delays whenever seeking help or interacting personally with live agents whilst simultaneously recognizing these temporal variances which might affect the responsiveness of support due either from system limitations at high-traffic intervals during peak working times coinciding nonlinearly distributed service periods across diverse geographies worldwide—in alignment to mitigate any forthcoming inconveniences arising henceforth by revisiting operational protocols inclusive but exclusive towards these cultural and temporal variances whilst remaining vigilant on consistently offering realtime, empathetic engagements which reflect our underlying ethos as a service designed for collectively fostering enhanced digital interaction landscapes without compromise whatsoever overtly to individual user experiences irrespective of geographically bound accessibility constraints faced within disparities rooted across global time demarcators.\\n\\nIn summation—consider this document merely an illustrative example depicting several aspects integral towards understanding functional nuances associated with specific technical inquiries whilst simultaneously reinforcing comprehensive service philosophy encompassing cyber safety education alongside continuous advancement aimed at refined user interface enhancements; thus facilitating seamless experiences amidst ever-increasing competitive landscapes propelled by a constant push for digital innovation without impeding upon authenticity or personalization capabilities we strive to embed uniquely into each and every aspect asserting themselves through unwavering dedication towards quality customer support that encompasses all user needs despite challenges encountered amid evolving demands within shifting technological paradigms—a testament echoed emphatically by this elaborate prose conveys assurance of our resolute pledge to maintain integrity as custodians overseeing such intricain platforms where aspirations toward superior digital habitats continuously burgeon unfalteringly propelled ceaselessly beyond horizons spanning forward into the limitless future ahead thereby manifesting boundlessly transformative journeys encapsulated exclusively within these encompassed virtual realms harmoniously thriving unbounded in perpetual synchronicity towards transcendent success collectively engrained irrespective of challenges ever-present therein persistently prevailingly endured thus consistently emerging triumphant over all obstacles encountered asserting themselves vehemently throughout the continuous voyage henceforth relentlessly ascending ubiquitously.\""
      ]
     },
     "execution_count": 11,
     "metadata": {},
     "output_type": "execute_result"
    }
   ],
   "source": [
    "llm('write that this is a test')"
   ]
  },
  {
   "cell_type": "code",
   "execution_count": 9,
   "id": "e0790540-580b-4395-a6e4-6a28143d5d8a",
   "metadata": {},
   "outputs": [
    {
     "data": {
      "text/plain": [
       "\"Advantages:\\n1. Increased versatility, thanks to the SUV body style; it can drive on roads as well as handle light off-roading situations when equipped with all-terrain tires or a lift kit and lowered suspension (but these accessories are not factory options). It also includes an elevated driving position for enhanced visibility.\\n\\n2. Safety: The Toyota Yaris Cross was designed to be more secure, featuring advanced driver-assist technology like adaptive cruise control with stop-and-go functionality and lane tracing following, as well as pedestrian detection aids (but not Lane Departure Alert). Being larger than the compact Yaris also provides additional protection for occupants in case of an accident.\\n\\n3. Innovative design: The vehicle uses Toyota’s Dynamic Force platform with active steering control which adds handling agility and responsiveness, typically associated more with smaller vehicles. This unique approach to combining crossover drivability with SUV-like capabilities sets it apart within its segment. \\n\\n4. Esthetically appealing: It features attractive design elements such as the sly grille treatment reminiscent of older Yaris models, complementing both compact and larger vehicles in Toyota’s lineup but also offering a fresh take on crossover looks thanks to its wider stance than most cars.\\n\\n5. Interior space: Despite being designed more as an SUV-like vehicle rather than strictly limited by interior volume constraints like smaller hatchback models, the Yaris Cross provides practical and comfortable accommodation for passengers – particularly in backseat due to optional captain's chairs providing extra legroom (but its size can also limit cargo capacity).\\n\\nDisadvantages: \\n1. Higher fuel consumption compared with a traditional compact car design - this is one negative impact of moving towards an SUV platform, which inherently offers less efficiency from the ground up due to additional weight and larger engine requirements for performance expectations typical in SUVs (but still maintaining better energy economy than some heavy crossover-class vehicles).\\n\\n2. Price point: The Yaris Cross is a pricier option when compared with its counterparts within this segment, which can make it unaffordable or less desirable for individuals on tighter budgets (but again retains value better thanks to Toyota's reputation and durability in building quality vehicles).\\n\\n3. Limited engine options - the Yaris Cross primarily offers a 1.8L inline-4 producing just under fourteen miles per gallon, with slightly improved Elegance variants offering an optional turbo (but some enthusiast prefer higher powered competitors or traditional hatchback models where driving experience could differ).\\n\\n4. Access to certain all-terrain features - while the Yaris Cross can handle rougher roads when equipped specifically for that purpose, these options such as off-road tires and lift kit aren't factory standardized (but remain accessible through aftermarket vendors if desired by some customers). \\n\\n5. Limited cargo capacity – While having a usable trunk like other vehicles in this category of subcompact SUVs makes it practical to move around items, the Yaris Cross doesn’t quite match up with its full-size or crossover siblings when looking at total luggage space offered due in part being designed along compact car principles (but provides a decent usable cargo area).\""
      ]
     },
     "execution_count": 9,
     "metadata": {},
     "output_type": "execute_result"
    }
   ],
   "source": [
    "llm('Tell me about advantages and disadvantages of Toyota Yaris Cross')"
   ]
  },
  {
   "cell_type": "code",
   "execution_count": null,
   "id": "99b136be-4578-4d48-9b15-9a6942f26af2",
   "metadata": {},
   "outputs": [],
   "source": []
  }
 ],
 "metadata": {
  "kernelspec": {
   "display_name": "Python 3 (ipykernel)",
   "language": "python",
   "name": "python3"
  },
  "language_info": {
   "codemirror_mode": {
    "name": "ipython",
    "version": 3
   },
   "file_extension": ".py",
   "mimetype": "text/x-python",
   "name": "python",
   "nbconvert_exporter": "python",
   "pygments_lexer": "ipython3",
   "version": "3.12.1"
  }
 },
 "nbformat": 4,
 "nbformat_minor": 5
}
